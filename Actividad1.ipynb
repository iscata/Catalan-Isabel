{
 "cells": [
  {
   "cell_type": "code",
   "execution_count": null,
   "id": "e196af3f",
   "metadata": {},
   "outputs": [],
   "source": [
    "import pandas as pd "
   ]
  },
  {
   "cell_type": "markdown",
   "id": "dd1214a8",
   "metadata": {},
   "source": [
    "### 2.1 Lectura y analisis exploratorio de datos"
   ]
  },
  {
   "cell_type": "markdown",
   "id": "149c1d2e",
   "metadata": {},
   "source": [
    "Cargar base de datos"
   ]
  },
  {
   "cell_type": "code",
   "execution_count": null,
   "id": "339c89ad",
   "metadata": {},
   "outputs": [],
   "source": [
    "df = pd.read_csv('ejemplo_data.csv')"
   ]
  },
  {
   "cell_type": "code",
   "execution_count": null,
   "id": "74fc2797",
   "metadata": {},
   "outputs": [],
   "source": [
    "df"
   ]
  },
  {
   "cell_type": "markdown",
   "id": "3a5f5c9f",
   "metadata": {},
   "source": [
    "Tipo de varibles disponibles en la base de datos"
   ]
  },
  {
   "cell_type": "code",
   "execution_count": null,
   "id": "b7a8c785",
   "metadata": {},
   "outputs": [],
   "source": [
    "df.dtypes"
   ]
  },
  {
   "cell_type": "markdown",
   "id": "0a7074f3",
   "metadata": {},
   "source": [
    "Transformación de atributo \"ID\" a entero y atributo \"Activo\" a booleano"
   ]
  },
  {
   "cell_type": "code",
   "execution_count": null,
   "id": "3ec7fb11",
   "metadata": {},
   "outputs": [],
   "source": [
    "df['ID']= df['ID'].astype('int')"
   ]
  },
  {
   "cell_type": "code",
   "execution_count": null,
   "id": "1d1576c3",
   "metadata": {},
   "outputs": [],
   "source": [
    "df.dtypes"
   ]
  },
  {
   "cell_type": "code",
   "execution_count": null,
   "id": "1c7f0ef0",
   "metadata": {},
   "outputs": [],
   "source": [
    "df['Activo'] = df['Activo'].astype('bool')"
   ]
  },
  {
   "cell_type": "code",
   "execution_count": null,
   "id": "3f4425e4",
   "metadata": {},
   "outputs": [],
   "source": [
    "df.dtypes"
   ]
  },
  {
   "cell_type": "markdown",
   "id": "142fa53d",
   "metadata": {},
   "source": [
    "Atributo \"unidades\" a entero y \"2016\" a flotante"
   ]
  },
  {
   "cell_type": "code",
   "execution_count": 33,
   "id": "bbc42b20",
   "metadata": {},
   "outputs": [],
   "source": [
    "df['Unidades'] = pd.to_numeric(df['Unidades'], errors= 'coerce')"
   ]
  },
  {
   "cell_type": "code",
   "execution_count": 34,
   "id": "3c6444ba",
   "metadata": {},
   "outputs": [],
   "source": [
    "df['Unidades'] = df['Unidades'].dropna().astype(int)"
   ]
  },
  {
   "cell_type": "code",
   "execution_count": 35,
   "id": "7f2b94ed",
   "metadata": {},
   "outputs": [
    {
     "data": {
      "text/plain": [
       "ID               int32\n",
       "Nombre          object\n",
       "2016           float64\n",
       "2017            object\n",
       "Crecimiento     object\n",
       "Unidades         int32\n",
       "fecha           object\n",
       "Activo            bool\n",
       "dtype: object"
      ]
     },
     "execution_count": 35,
     "metadata": {},
     "output_type": "execute_result"
    }
   ],
   "source": [
    "df.dtypes"
   ]
  },
  {
   "cell_type": "code",
   "execution_count": 24,
   "id": "d52d79b5",
   "metadata": {},
   "outputs": [],
   "source": [
    "def convertir(val):\n",
    "    nuevo_tipo = val.replace(',','').replace('$', '').replace('%','')\n",
    "    return float(nuevo_tipo)"
   ]
  },
  {
   "cell_type": "code",
   "execution_count": 25,
   "id": "e4b7a7b9",
   "metadata": {},
   "outputs": [],
   "source": [
    "df['2016'] = df['2016'].apply(convertir)"
   ]
  },
  {
   "cell_type": "code",
   "execution_count": 36,
   "id": "52aeb396",
   "metadata": {},
   "outputs": [
    {
     "data": {
      "text/plain": [
       "ID               int32\n",
       "Nombre          object\n",
       "2016           float64\n",
       "2017            object\n",
       "Crecimiento     object\n",
       "Unidades         int32\n",
       "fecha           object\n",
       "Activo            bool\n",
       "dtype: object"
      ]
     },
     "execution_count": 36,
     "metadata": {},
     "output_type": "execute_result"
    }
   ],
   "source": [
    "df.dtypes"
   ]
  },
  {
   "cell_type": "markdown",
   "id": "8d2a3814",
   "metadata": {},
   "source": [
    "### 2.2 Lectura y analisis exploratorio de datos 2"
   ]
  },
  {
   "cell_type": "code",
   "execution_count": null,
   "id": "a1943afa",
   "metadata": {},
   "outputs": [],
   "source": [
    "import pandas as pd"
   ]
  },
  {
   "cell_type": "markdown",
   "id": "efb0f04e",
   "metadata": {},
   "source": [
    "Cargar la base de datos"
   ]
  },
  {
   "cell_type": "code",
   "execution_count": null,
   "id": "f2c01bff",
   "metadata": {},
   "outputs": [],
   "source": [
    "df = pd.read_csv('ecommerce_data.csv', encoding='latin1')"
   ]
  },
  {
   "cell_type": "markdown",
   "id": "ff309915",
   "metadata": {},
   "source": [
    "Tipos de varibles que hay disponibles en la base de datos "
   ]
  },
  {
   "cell_type": "code",
   "execution_count": null,
   "id": "c16896b3",
   "metadata": {},
   "outputs": [],
   "source": [
    "df.dtypes"
   ]
  },
  {
   "cell_type": "markdown",
   "id": "b55f5cde",
   "metadata": {},
   "source": [
    "Utilizando la funcion astype transforme el atributo \"InvoiceNo\" a entero y el atributo \"Description\" a string"
   ]
  },
  {
   "cell_type": "code",
   "execution_count": null,
   "id": "6e485904",
   "metadata": {},
   "outputs": [],
   "source": [
    "df['InvoiceNo'] = pd.to_numeric(df['InvoiceNo'], errors= 'coerce')\n"
   ]
  },
  {
   "cell_type": "code",
   "execution_count": null,
   "id": "4f5cd9e7",
   "metadata": {},
   "outputs": [],
   "source": [
    "df.dtypes"
   ]
  },
  {
   "cell_type": "code",
   "execution_count": null,
   "id": "4ee7cd08",
   "metadata": {},
   "outputs": [],
   "source": [
    "df ['Description'] = df ['Description'].astype(str)"
   ]
  },
  {
   "cell_type": "code",
   "execution_count": null,
   "id": "e3dea812",
   "metadata": {},
   "outputs": [],
   "source": [
    "df.dtypes"
   ]
  },
  {
   "cell_type": "markdown",
   "id": "5db8d547",
   "metadata": {},
   "source": [
    "Atributo \"Quantity\" a entero y \"UnitPrice\" a flotante"
   ]
  },
  {
   "cell_type": "code",
   "execution_count": null,
   "id": "970b3719",
   "metadata": {},
   "outputs": [],
   "source": [
    "df['Quantity']= df['Quantity'].astype('int')"
   ]
  },
  {
   "cell_type": "code",
   "execution_count": null,
   "id": "af48be35",
   "metadata": {},
   "outputs": [],
   "source": [
    "df.dtypes"
   ]
  },
  {
   "cell_type": "code",
   "execution_count": null,
   "id": "2fe9c64a",
   "metadata": {},
   "outputs": [],
   "source": [
    "df['UnitPrice']= df['UnitPrice'].astype('float')"
   ]
  },
  {
   "cell_type": "code",
   "execution_count": null,
   "id": "4e8bed8a",
   "metadata": {},
   "outputs": [],
   "source": [
    "df.dtypes"
   ]
  },
  {
   "cell_type": "markdown",
   "id": "0f59cb92",
   "metadata": {},
   "source": [
    "La columna \"InvoiceDate\" contiene un string que representa \"fecha-hora\", separe la columna en dos columnas que representen cada atributo por separado"
   ]
  },
  {
   "cell_type": "code",
   "execution_count": null,
   "id": "8acfe552",
   "metadata": {},
   "outputs": [],
   "source": [
    "df['Fecha'] = pd.to_datetime(df['InvoiceDate']).dt.date \n",
    "df['Hora'] = pd.to_datetime(df['InvoiceDate']).dt.time "
   ]
  },
  {
   "cell_type": "code",
   "execution_count": null,
   "id": "f64187a8",
   "metadata": {},
   "outputs": [],
   "source": [
    "df"
   ]
  },
  {
   "cell_type": "markdown",
   "id": "3c35d8a9",
   "metadata": {},
   "source": [
    "Nueva columna que represente el monto total para cada boleta"
   ]
  },
  {
   "cell_type": "code",
   "execution_count": null,
   "id": "8f6c1fc8",
   "metadata": {},
   "outputs": [],
   "source": [
    "df['MontoTotal'] = df['UnitPrice']*df['Quantity']"
   ]
  },
  {
   "cell_type": "code",
   "execution_count": null,
   "id": "a2892e92",
   "metadata": {},
   "outputs": [],
   "source": [
    "df"
   ]
  },
  {
   "cell_type": "markdown",
   "id": "302445fb",
   "metadata": {},
   "source": [
    "Exporte la base de datos procesada en formato \".csv\""
   ]
  },
  {
   "cell_type": "code",
   "execution_count": null,
   "id": "801115a4",
   "metadata": {},
   "outputs": [],
   "source": [
    "df.to_csv('ecommerce2.csv', index=True)"
   ]
  },
  {
   "cell_type": "markdown",
   "id": "3c1589e6",
   "metadata": {},
   "source": [
    "Exploracion de funciones groupby, sort values, set index, sample, pivot, reset index y merge"
   ]
  },
  {
   "cell_type": "code",
   "execution_count": null,
   "id": "372e0c8b",
   "metadata": {},
   "outputs": [],
   "source": [
    "df_ordenado = df.sort_values('MontoTotal', ascending= False)"
   ]
  },
  {
   "cell_type": "code",
   "execution_count": null,
   "id": "7951c4ec",
   "metadata": {},
   "outputs": [],
   "source": [
    "df_ordenado"
   ]
  },
  {
   "cell_type": "code",
   "execution_count": null,
   "id": "23743b5f",
   "metadata": {},
   "outputs": [],
   "source": [
    "df_groupby = df.groupby('Country')['Quantity'].mean()"
   ]
  },
  {
   "cell_type": "code",
   "execution_count": 108,
   "id": "a22714f5",
   "metadata": {},
   "outputs": [
    {
     "data": {
      "text/plain": [
       "Country\n",
       "Australia               66.444003\n",
       "Austria                 12.037406\n",
       "Bahrain                 13.684211\n",
       "Belgium                 11.189947\n",
       "Brazil                  11.125000\n",
       "Canada                  18.298013\n",
       "Channel Islands         12.505277\n",
       "Cyprus                  10.155949\n",
       "Czech Republic          19.733333\n",
       "Denmark                 21.048843\n",
       "EIRE                    17.403245\n",
       "European Community       8.147541\n",
       "Finland                 15.346763\n",
       "France                  12.911067\n",
       "Germany                 12.369458\n",
       "Greece                  10.657534\n",
       "Hong Kong               16.559028\n",
       "Iceland                 13.505495\n",
       "Israel                  14.656566\n",
       "Italy                    9.961395\n",
       "Japan                   70.441341\n",
       "Lebanon                  8.577778\n",
       "Lithuania               18.628571\n",
       "Malta                    7.433071\n",
       "Netherlands             84.406580\n",
       "Norway                  17.722836\n",
       "Poland                  10.712610\n",
       "Portugal                10.651745\n",
       "RSA                      6.068966\n",
       "Saudi Arabia             7.500000\n",
       "Singapore               22.855895\n",
       "Spain                   10.589814\n",
       "Sweden                  77.136364\n",
       "Switzerland             15.147353\n",
       "USA                      3.553265\n",
       "United Arab Emirates    14.441176\n",
       "United Kingdom           8.605486\n",
       "Unspecified              7.399103\n",
       "Name: Quantity, dtype: float64"
      ]
     },
     "execution_count": 108,
     "metadata": {},
     "output_type": "execute_result"
    }
   ],
   "source": [
    "df_groupby"
   ]
  },
  {
   "cell_type": "markdown",
   "id": "9e3ccf1a",
   "metadata": {},
   "source": [
    "### 2.3 Estadisticas descriptivas\n"
   ]
  },
  {
   "cell_type": "code",
   "execution_count": 1,
   "id": "06f8c615",
   "metadata": {},
   "outputs": [],
   "source": [
    "import pandas as pd \n",
    "import numpy as np"
   ]
  },
  {
   "cell_type": "markdown",
   "id": "bf6496f1",
   "metadata": {},
   "source": [
    "Crear un diccionario con 50 datos que contenga al menos tres atributos continuos"
   ]
  },
  {
   "cell_type": "code",
   "execution_count": null,
   "id": "feeb12dd",
   "metadata": {},
   "outputs": [],
   "source": [
    "np.random.seed(42)\n",
    "Edad = np.random.randint(18, 95, size=50)\n",
    "Nota = np.random.randint(1.0, 7.0, size=50)\n",
    "\n",
    "dict = {\n",
    "   'Edad':Edad,\n",
    "    'Nota': Nota\n",
    "     }"
   ]
  },
  {
   "cell_type": "markdown",
   "id": "8773dc45",
   "metadata": {},
   "source": [
    "Transforme dicho diccionario a un dataFrame de Pandas"
   ]
  },
  {
   "cell_type": "code",
   "execution_count": null,
   "id": "9b02d459",
   "metadata": {},
   "outputs": [],
   "source": [
    "df = pd.DataFrame(dict)\n",
    "df.head()\n",
    "df"
   ]
  },
  {
   "cell_type": "markdown",
   "id": "2a3884b2",
   "metadata": {},
   "source": [
    "Estadisticas descriptivas de tendencia central"
   ]
  },
  {
   "cell_type": "code",
   "execution_count": 32,
   "id": "5c1d7444",
   "metadata": {},
   "outputs": [
    {
     "data": {
      "text/html": [
       "<div>\n",
       "<style scoped>\n",
       "    .dataframe tbody tr th:only-of-type {\n",
       "        vertical-align: middle;\n",
       "    }\n",
       "\n",
       "    .dataframe tbody tr th {\n",
       "        vertical-align: top;\n",
       "    }\n",
       "\n",
       "    .dataframe thead th {\n",
       "        text-align: right;\n",
       "    }\n",
       "</style>\n",
       "<table border=\"1\" class=\"dataframe\">\n",
       "  <thead>\n",
       "    <tr style=\"text-align: right;\">\n",
       "      <th></th>\n",
       "      <th>Edad</th>\n",
       "      <th>Nota</th>\n",
       "    </tr>\n",
       "  </thead>\n",
       "  <tbody>\n",
       "    <tr>\n",
       "      <th>count</th>\n",
       "      <td>50.000000</td>\n",
       "      <td>50.000000</td>\n",
       "    </tr>\n",
       "    <tr>\n",
       "      <th>mean</th>\n",
       "      <td>57.720000</td>\n",
       "      <td>3.520000</td>\n",
       "    </tr>\n",
       "    <tr>\n",
       "      <th>std</th>\n",
       "      <td>23.985574</td>\n",
       "      <td>1.775571</td>\n",
       "    </tr>\n",
       "    <tr>\n",
       "      <th>min</th>\n",
       "      <td>19.000000</td>\n",
       "      <td>1.000000</td>\n",
       "    </tr>\n",
       "    <tr>\n",
       "      <th>25%</th>\n",
       "      <td>38.000000</td>\n",
       "      <td>2.000000</td>\n",
       "    </tr>\n",
       "    <tr>\n",
       "      <th>50%</th>\n",
       "      <td>65.000000</td>\n",
       "      <td>4.000000</td>\n",
       "    </tr>\n",
       "    <tr>\n",
       "      <th>75%</th>\n",
       "      <td>77.000000</td>\n",
       "      <td>5.000000</td>\n",
       "    </tr>\n",
       "    <tr>\n",
       "      <th>max</th>\n",
       "      <td>93.000000</td>\n",
       "      <td>6.000000</td>\n",
       "    </tr>\n",
       "  </tbody>\n",
       "</table>\n",
       "</div>"
      ],
      "text/plain": [
       "            Edad       Nota\n",
       "count  50.000000  50.000000\n",
       "mean   57.720000   3.520000\n",
       "std    23.985574   1.775571\n",
       "min    19.000000   1.000000\n",
       "25%    38.000000   2.000000\n",
       "50%    65.000000   4.000000\n",
       "75%    77.000000   5.000000\n",
       "max    93.000000   6.000000"
      ]
     },
     "execution_count": 32,
     "metadata": {},
     "output_type": "execute_result"
    }
   ],
   "source": [
    "df.describe()"
   ]
  },
  {
   "cell_type": "markdown",
   "id": "c38d449e",
   "metadata": {},
   "source": [
    "Estadisticas descriptivas de dispersion"
   ]
  },
  {
   "cell_type": "code",
   "execution_count": 36,
   "id": "cb5c2e36",
   "metadata": {},
   "outputs": [
    {
     "name": "stdout",
     "output_type": "stream",
     "text": [
      "rango nota:  5\n",
      "rango edad:  74\n"
     ]
    }
   ],
   "source": [
    "print('rango nota: ', np.round(df.Nota.max()-df.Nota.min(),2))\n",
    "print('rango edad: ', np.round(df.Edad.max()-df.Edad.min(),2))"
   ]
  },
  {
   "cell_type": "code",
   "execution_count": 37,
   "id": "65c5a133",
   "metadata": {},
   "outputs": [
    {
     "name": "stdout",
     "output_type": "stream",
     "text": [
      "desviación estándar nota:  1.78\n",
      "desviación estándar edad:  23.99\n"
     ]
    }
   ],
   "source": [
    "print('desviación estándar nota: ', np.round(df.Nota.std(),2))\n",
    "print('desviación estándar edad: ', np.round(df.Edad.std(),2))"
   ]
  },
  {
   "cell_type": "code",
   "execution_count": 38,
   "id": "7ef127e4",
   "metadata": {},
   "outputs": [
    {
     "name": "stdout",
     "output_type": "stream",
     "text": [
      "Varianza nota:  3.15\n",
      "Varianza edad:  575.31\n"
     ]
    }
   ],
   "source": [
    "print('Varianza nota: ', np.round(df.Nota.var(),2))\n",
    "print('Varianza edad: ', np.round(df.Edad.var(),2))"
   ]
  },
  {
   "cell_type": "code",
   "execution_count": 39,
   "id": "136e00ff",
   "metadata": {},
   "outputs": [
    {
     "data": {
      "text/html": [
       "<div>\n",
       "<style scoped>\n",
       "    .dataframe tbody tr th:only-of-type {\n",
       "        vertical-align: middle;\n",
       "    }\n",
       "\n",
       "    .dataframe tbody tr th {\n",
       "        vertical-align: top;\n",
       "    }\n",
       "\n",
       "    .dataframe thead th {\n",
       "        text-align: right;\n",
       "    }\n",
       "</style>\n",
       "<table border=\"1\" class=\"dataframe\">\n",
       "  <thead>\n",
       "    <tr style=\"text-align: right;\">\n",
       "      <th></th>\n",
       "      <th>Edad</th>\n",
       "      <th>Nota</th>\n",
       "    </tr>\n",
       "  </thead>\n",
       "  <tbody>\n",
       "    <tr>\n",
       "      <th>0.25</th>\n",
       "      <td>38.0</td>\n",
       "      <td>2.0</td>\n",
       "    </tr>\n",
       "    <tr>\n",
       "      <th>0.50</th>\n",
       "      <td>65.0</td>\n",
       "      <td>4.0</td>\n",
       "    </tr>\n",
       "    <tr>\n",
       "      <th>0.75</th>\n",
       "      <td>77.0</td>\n",
       "      <td>5.0</td>\n",
       "    </tr>\n",
       "  </tbody>\n",
       "</table>\n",
       "</div>"
      ],
      "text/plain": [
       "      Edad  Nota\n",
       "0.25  38.0   2.0\n",
       "0.50  65.0   4.0\n",
       "0.75  77.0   5.0"
      ]
     },
     "execution_count": 39,
     "metadata": {},
     "output_type": "execute_result"
    }
   ],
   "source": [
    "df[['Edad', 'Nota']].quantile([0.25,0.5,0.75])"
   ]
  },
  {
   "cell_type": "markdown",
   "id": "dca110ee",
   "metadata": {},
   "source": [
    "### 2.4 Transformacion e imputacion de datos"
   ]
  },
  {
   "cell_type": "code",
   "execution_count": 3,
   "id": "72e8d345",
   "metadata": {},
   "outputs": [],
   "source": [
    "import pandas as pd \n",
    "import numpy as np\n",
    "from sklearn.impute import SimpleImputer"
   ]
  },
  {
   "cell_type": "markdown",
   "id": "a29f818a",
   "metadata": {},
   "source": [
    "Cargar las bases de datos de nombre \"ratings data.csv\" y \"books data.csv\""
   ]
  },
  {
   "cell_type": "code",
   "execution_count": 67,
   "id": "2cf6ef8a",
   "metadata": {},
   "outputs": [],
   "source": [
    "df1 = pd.read_csv('ratings_data.csv', encoding= 'utf-8')\n",
    "df2 = pd.read_csv('books_data.csv', sep = ';', encoding= 'ISO-8859-1')"
   ]
  },
  {
   "cell_type": "code",
   "execution_count": 82,
   "id": "1fadc2fe",
   "metadata": {},
   "outputs": [
    {
     "data": {
      "text/html": [
       "<div>\n",
       "<style scoped>\n",
       "    .dataframe tbody tr th:only-of-type {\n",
       "        vertical-align: middle;\n",
       "    }\n",
       "\n",
       "    .dataframe tbody tr th {\n",
       "        vertical-align: top;\n",
       "    }\n",
       "\n",
       "    .dataframe thead th {\n",
       "        text-align: right;\n",
       "    }\n",
       "</style>\n",
       "<table border=\"1\" class=\"dataframe\">\n",
       "  <thead>\n",
       "    <tr style=\"text-align: right;\">\n",
       "      <th></th>\n",
       "      <th>Unnamed: 0</th>\n",
       "      <th>User-ID</th>\n",
       "      <th>ISBN</th>\n",
       "      <th>Book-Rating</th>\n",
       "      <th>MeanRating</th>\n",
       "    </tr>\n",
       "  </thead>\n",
       "  <tbody>\n",
       "    <tr>\n",
       "      <th>0</th>\n",
       "      <td>0</td>\n",
       "      <td>276725</td>\n",
       "      <td>034545104X</td>\n",
       "      <td>0</td>\n",
       "      <td>2.933333</td>\n",
       "    </tr>\n",
       "    <tr>\n",
       "      <th>1</th>\n",
       "      <td>1</td>\n",
       "      <td>276726</td>\n",
       "      <td>0155061224</td>\n",
       "      <td>5</td>\n",
       "      <td>2.500000</td>\n",
       "    </tr>\n",
       "    <tr>\n",
       "      <th>2</th>\n",
       "      <td>2</td>\n",
       "      <td>276727</td>\n",
       "      <td>0446520802</td>\n",
       "      <td>0</td>\n",
       "      <td>4.060345</td>\n",
       "    </tr>\n",
       "    <tr>\n",
       "      <th>3</th>\n",
       "      <td>3</td>\n",
       "      <td>276729</td>\n",
       "      <td>052165615X</td>\n",
       "      <td>3</td>\n",
       "      <td>3.000000</td>\n",
       "    </tr>\n",
       "    <tr>\n",
       "      <th>4</th>\n",
       "      <td>4</td>\n",
       "      <td>276729</td>\n",
       "      <td>0521795028</td>\n",
       "      <td>6</td>\n",
       "      <td>6.000000</td>\n",
       "    </tr>\n",
       "  </tbody>\n",
       "</table>\n",
       "</div>"
      ],
      "text/plain": [
       "   Unnamed: 0  User-ID        ISBN  Book-Rating  MeanRating\n",
       "0           0   276725  034545104X            0    2.933333\n",
       "1           1   276726  0155061224            5    2.500000\n",
       "2           2   276727  0446520802            0    4.060345\n",
       "3           3   276729  052165615X            3    3.000000\n",
       "4           4   276729  0521795028            6    6.000000"
      ]
     },
     "execution_count": 82,
     "metadata": {},
     "output_type": "execute_result"
    }
   ],
   "source": [
    "df1.head()"
   ]
  },
  {
   "cell_type": "code",
   "execution_count": 83,
   "id": "27de1222",
   "metadata": {},
   "outputs": [
    {
     "data": {
      "text/html": [
       "<div>\n",
       "<style scoped>\n",
       "    .dataframe tbody tr th:only-of-type {\n",
       "        vertical-align: middle;\n",
       "    }\n",
       "\n",
       "    .dataframe tbody tr th {\n",
       "        vertical-align: top;\n",
       "    }\n",
       "\n",
       "    .dataframe thead th {\n",
       "        text-align: right;\n",
       "    }\n",
       "</style>\n",
       "<table border=\"1\" class=\"dataframe\">\n",
       "  <thead>\n",
       "    <tr style=\"text-align: right;\">\n",
       "      <th></th>\n",
       "      <th>ISBN</th>\n",
       "      <th>Book-Title</th>\n",
       "      <th>Book-Author</th>\n",
       "      <th>Year-Of-Publication</th>\n",
       "      <th>Publisher</th>\n",
       "      <th>Image-URL-S</th>\n",
       "      <th>Image-URL-M</th>\n",
       "      <th>Image-URL-L</th>\n",
       "    </tr>\n",
       "  </thead>\n",
       "  <tbody>\n",
       "    <tr>\n",
       "      <th>0</th>\n",
       "      <td>0195153448</td>\n",
       "      <td>Classical Mythology</td>\n",
       "      <td>Mark P. O. Morford</td>\n",
       "      <td>2002</td>\n",
       "      <td>Oxford University Press</td>\n",
       "      <td>http://images.amazon.com/images/P/0195153448.0...</td>\n",
       "      <td>http://images.amazon.com/images/P/0195153448.0...</td>\n",
       "      <td>http://images.amazon.com/images/P/0195153448.0...</td>\n",
       "    </tr>\n",
       "    <tr>\n",
       "      <th>1</th>\n",
       "      <td>0002005018</td>\n",
       "      <td>Clara Callan</td>\n",
       "      <td>Richard Bruce Wright</td>\n",
       "      <td>2001</td>\n",
       "      <td>HarperFlamingo Canada</td>\n",
       "      <td>http://images.amazon.com/images/P/0002005018.0...</td>\n",
       "      <td>http://images.amazon.com/images/P/0002005018.0...</td>\n",
       "      <td>http://images.amazon.com/images/P/0002005018.0...</td>\n",
       "    </tr>\n",
       "    <tr>\n",
       "      <th>2</th>\n",
       "      <td>0060973129</td>\n",
       "      <td>Decision in Normandy</td>\n",
       "      <td>Carlo D'Este</td>\n",
       "      <td>1991</td>\n",
       "      <td>HarperPerennial</td>\n",
       "      <td>http://images.amazon.com/images/P/0060973129.0...</td>\n",
       "      <td>http://images.amazon.com/images/P/0060973129.0...</td>\n",
       "      <td>http://images.amazon.com/images/P/0060973129.0...</td>\n",
       "    </tr>\n",
       "    <tr>\n",
       "      <th>3</th>\n",
       "      <td>0374157065</td>\n",
       "      <td>Flu: The Story of the Great Influenza Pandemic...</td>\n",
       "      <td>Gina Bari Kolata</td>\n",
       "      <td>1999</td>\n",
       "      <td>Farrar Straus Giroux</td>\n",
       "      <td>http://images.amazon.com/images/P/0374157065.0...</td>\n",
       "      <td>http://images.amazon.com/images/P/0374157065.0...</td>\n",
       "      <td>http://images.amazon.com/images/P/0374157065.0...</td>\n",
       "    </tr>\n",
       "    <tr>\n",
       "      <th>4</th>\n",
       "      <td>0393045218</td>\n",
       "      <td>The Mummies of Urumchi</td>\n",
       "      <td>E. J. W. Barber</td>\n",
       "      <td>1999</td>\n",
       "      <td>W. W. Norton &amp; Company</td>\n",
       "      <td>http://images.amazon.com/images/P/0393045218.0...</td>\n",
       "      <td>http://images.amazon.com/images/P/0393045218.0...</td>\n",
       "      <td>http://images.amazon.com/images/P/0393045218.0...</td>\n",
       "    </tr>\n",
       "  </tbody>\n",
       "</table>\n",
       "</div>"
      ],
      "text/plain": [
       "         ISBN                                         Book-Title  \\\n",
       "0  0195153448                                Classical Mythology   \n",
       "1  0002005018                                       Clara Callan   \n",
       "2  0060973129                               Decision in Normandy   \n",
       "3  0374157065  Flu: The Story of the Great Influenza Pandemic...   \n",
       "4  0393045218                             The Mummies of Urumchi   \n",
       "\n",
       "            Book-Author  Year-Of-Publication                Publisher  \\\n",
       "0    Mark P. O. Morford                 2002  Oxford University Press   \n",
       "1  Richard Bruce Wright                 2001    HarperFlamingo Canada   \n",
       "2          Carlo D'Este                 1991          HarperPerennial   \n",
       "3      Gina Bari Kolata                 1999     Farrar Straus Giroux   \n",
       "4       E. J. W. Barber                 1999   W. W. Norton & Company   \n",
       "\n",
       "                                         Image-URL-S  \\\n",
       "0  http://images.amazon.com/images/P/0195153448.0...   \n",
       "1  http://images.amazon.com/images/P/0002005018.0...   \n",
       "2  http://images.amazon.com/images/P/0060973129.0...   \n",
       "3  http://images.amazon.com/images/P/0374157065.0...   \n",
       "4  http://images.amazon.com/images/P/0393045218.0...   \n",
       "\n",
       "                                         Image-URL-M  \\\n",
       "0  http://images.amazon.com/images/P/0195153448.0...   \n",
       "1  http://images.amazon.com/images/P/0002005018.0...   \n",
       "2  http://images.amazon.com/images/P/0060973129.0...   \n",
       "3  http://images.amazon.com/images/P/0374157065.0...   \n",
       "4  http://images.amazon.com/images/P/0393045218.0...   \n",
       "\n",
       "                                         Image-URL-L  \n",
       "0  http://images.amazon.com/images/P/0195153448.0...  \n",
       "1  http://images.amazon.com/images/P/0002005018.0...  \n",
       "2  http://images.amazon.com/images/P/0060973129.0...  \n",
       "3  http://images.amazon.com/images/P/0374157065.0...  \n",
       "4  http://images.amazon.com/images/P/0393045218.0...  "
      ]
     },
     "execution_count": 83,
     "metadata": {},
     "output_type": "execute_result"
    }
   ],
   "source": [
    "df2.head()"
   ]
  },
  {
   "cell_type": "code",
   "execution_count": 70,
   "id": "3bf030ca",
   "metadata": {},
   "outputs": [],
   "source": [
    "df1.columns = df1.columns.str.strip()\n",
    "df2.columns = df2.columns.str.strip()\n"
   ]
  },
  {
   "cell_type": "markdown",
   "id": "5bffe819",
   "metadata": {},
   "source": [
    "Utilizando \"ratings data.csv\" genere un diagnostico de numeros perdidos"
   ]
  },
  {
   "cell_type": "code",
   "execution_count": 7,
   "id": "5d8f0340",
   "metadata": {},
   "outputs": [],
   "source": [
    "df1.replace(0, np.nan, inplace=True)"
   ]
  },
  {
   "cell_type": "code",
   "execution_count": 14,
   "id": "134ff967",
   "metadata": {},
   "outputs": [
    {
     "data": {
      "text/plain": [
       "Unnamed: 0     1\n",
       "User-ID        0\n",
       "ISBN           0\n",
       "Book-Rating    0\n",
       "MeanRating     0\n",
       "dtype: int64"
      ]
     },
     "execution_count": 14,
     "metadata": {},
     "output_type": "execute_result"
    }
   ],
   "source": [
    "df1.isnull().sum()"
   ]
  },
  {
   "cell_type": "code",
   "execution_count": 15,
   "id": "10170d3b",
   "metadata": {},
   "outputs": [
    {
     "data": {
      "text/plain": [
       "Unnamed: 0     1149779\n",
       "User-ID        1149780\n",
       "ISBN           1149780\n",
       "Book-Rating    1149780\n",
       "MeanRating     1149780\n",
       "dtype: int64"
      ]
     },
     "execution_count": 15,
     "metadata": {},
     "output_type": "execute_result"
    }
   ],
   "source": [
    "df1.notnull().sum()"
   ]
  },
  {
   "cell_type": "code",
   "execution_count": 10,
   "id": "1b40fb8c",
   "metadata": {},
   "outputs": [],
   "source": [
    "imputer = SimpleImputer(strategy='mean')"
   ]
  },
  {
   "cell_type": "code",
   "execution_count": 11,
   "id": "d2c638ad",
   "metadata": {},
   "outputs": [],
   "source": [
    "df1[['Book-Rating', 'MeanRating']] = imputer.fit_transform(df1[['Book-Rating', 'MeanRating']])"
   ]
  },
  {
   "cell_type": "code",
   "execution_count": 12,
   "id": "03e86d3c",
   "metadata": {},
   "outputs": [
    {
     "data": {
      "text/html": [
       "<div>\n",
       "<style scoped>\n",
       "    .dataframe tbody tr th:only-of-type {\n",
       "        vertical-align: middle;\n",
       "    }\n",
       "\n",
       "    .dataframe tbody tr th {\n",
       "        vertical-align: top;\n",
       "    }\n",
       "\n",
       "    .dataframe thead th {\n",
       "        text-align: right;\n",
       "    }\n",
       "</style>\n",
       "<table border=\"1\" class=\"dataframe\">\n",
       "  <thead>\n",
       "    <tr style=\"text-align: right;\">\n",
       "      <th></th>\n",
       "      <th>Unnamed: 0</th>\n",
       "      <th>User-ID</th>\n",
       "      <th>ISBN</th>\n",
       "      <th>Book-Rating</th>\n",
       "      <th>MeanRating</th>\n",
       "    </tr>\n",
       "  </thead>\n",
       "  <tbody>\n",
       "    <tr>\n",
       "      <th>0</th>\n",
       "      <td>NaN</td>\n",
       "      <td>276725</td>\n",
       "      <td>034545104X</td>\n",
       "      <td>7.601066</td>\n",
       "      <td>2.933333</td>\n",
       "    </tr>\n",
       "    <tr>\n",
       "      <th>1</th>\n",
       "      <td>1.0</td>\n",
       "      <td>276726</td>\n",
       "      <td>0155061224</td>\n",
       "      <td>5.000000</td>\n",
       "      <td>2.500000</td>\n",
       "    </tr>\n",
       "    <tr>\n",
       "      <th>2</th>\n",
       "      <td>2.0</td>\n",
       "      <td>276727</td>\n",
       "      <td>0446520802</td>\n",
       "      <td>7.601066</td>\n",
       "      <td>4.060345</td>\n",
       "    </tr>\n",
       "    <tr>\n",
       "      <th>3</th>\n",
       "      <td>3.0</td>\n",
       "      <td>276729</td>\n",
       "      <td>052165615X</td>\n",
       "      <td>3.000000</td>\n",
       "      <td>3.000000</td>\n",
       "    </tr>\n",
       "    <tr>\n",
       "      <th>4</th>\n",
       "      <td>4.0</td>\n",
       "      <td>276729</td>\n",
       "      <td>0521795028</td>\n",
       "      <td>6.000000</td>\n",
       "      <td>6.000000</td>\n",
       "    </tr>\n",
       "    <tr>\n",
       "      <th>...</th>\n",
       "      <td>...</td>\n",
       "      <td>...</td>\n",
       "      <td>...</td>\n",
       "      <td>...</td>\n",
       "      <td>...</td>\n",
       "    </tr>\n",
       "    <tr>\n",
       "      <th>1149775</th>\n",
       "      <td>1149775.0</td>\n",
       "      <td>276704</td>\n",
       "      <td>1563526298</td>\n",
       "      <td>9.000000</td>\n",
       "      <td>7.000000</td>\n",
       "    </tr>\n",
       "    <tr>\n",
       "      <th>1149776</th>\n",
       "      <td>1149776.0</td>\n",
       "      <td>276706</td>\n",
       "      <td>0679447156</td>\n",
       "      <td>7.601066</td>\n",
       "      <td>2.925000</td>\n",
       "    </tr>\n",
       "    <tr>\n",
       "      <th>1149777</th>\n",
       "      <td>1149777.0</td>\n",
       "      <td>276709</td>\n",
       "      <td>0515107662</td>\n",
       "      <td>10.000000</td>\n",
       "      <td>3.454545</td>\n",
       "    </tr>\n",
       "    <tr>\n",
       "      <th>1149778</th>\n",
       "      <td>1149778.0</td>\n",
       "      <td>276721</td>\n",
       "      <td>0590442449</td>\n",
       "      <td>10.000000</td>\n",
       "      <td>1.200000</td>\n",
       "    </tr>\n",
       "    <tr>\n",
       "      <th>1149779</th>\n",
       "      <td>1149779.0</td>\n",
       "      <td>276723</td>\n",
       "      <td>05162443314</td>\n",
       "      <td>8.000000</td>\n",
       "      <td>8.000000</td>\n",
       "    </tr>\n",
       "  </tbody>\n",
       "</table>\n",
       "<p>1149780 rows × 5 columns</p>\n",
       "</div>"
      ],
      "text/plain": [
       "         Unnamed: 0  User-ID         ISBN  Book-Rating  MeanRating\n",
       "0               NaN   276725   034545104X     7.601066    2.933333\n",
       "1               1.0   276726   0155061224     5.000000    2.500000\n",
       "2               2.0   276727   0446520802     7.601066    4.060345\n",
       "3               3.0   276729   052165615X     3.000000    3.000000\n",
       "4               4.0   276729   0521795028     6.000000    6.000000\n",
       "...             ...      ...          ...          ...         ...\n",
       "1149775   1149775.0   276704   1563526298     9.000000    7.000000\n",
       "1149776   1149776.0   276706   0679447156     7.601066    2.925000\n",
       "1149777   1149777.0   276709   0515107662    10.000000    3.454545\n",
       "1149778   1149778.0   276721   0590442449    10.000000    1.200000\n",
       "1149779   1149779.0   276723  05162443314     8.000000    8.000000\n",
       "\n",
       "[1149780 rows x 5 columns]"
      ]
     },
     "execution_count": 12,
     "metadata": {},
     "output_type": "execute_result"
    }
   ],
   "source": [
    "df1"
   ]
  },
  {
   "cell_type": "code",
   "execution_count": 13,
   "id": "a7e7cffc",
   "metadata": {},
   "outputs": [
    {
     "data": {
      "text/plain": [
       "Unnamed: 0     1\n",
       "User-ID        0\n",
       "ISBN           0\n",
       "Book-Rating    0\n",
       "MeanRating     0\n",
       "dtype: int64"
      ]
     },
     "execution_count": 13,
     "metadata": {},
     "output_type": "execute_result"
    }
   ],
   "source": [
    "df1.isnull().sum()"
   ]
  },
  {
   "cell_type": "markdown",
   "id": "3aca858b",
   "metadata": {},
   "source": [
    "En \"ratings data.csv genere una nueva variable que represente el promedio de rating para cada\n",
    "ISBN distinto"
   ]
  },
  {
   "cell_type": "code",
   "execution_count": 26,
   "id": "747726ac",
   "metadata": {},
   "outputs": [],
   "source": [
    "df1['Promedio_Rating'] =  df1.groupby('ISBN')['MeanRating'].transform('mean')"
   ]
  },
  {
   "cell_type": "code",
   "execution_count": 20,
   "id": "41985301",
   "metadata": {},
   "outputs": [
    {
     "data": {
      "text/html": [
       "<div>\n",
       "<style scoped>\n",
       "    .dataframe tbody tr th:only-of-type {\n",
       "        vertical-align: middle;\n",
       "    }\n",
       "\n",
       "    .dataframe tbody tr th {\n",
       "        vertical-align: top;\n",
       "    }\n",
       "\n",
       "    .dataframe thead th {\n",
       "        text-align: right;\n",
       "    }\n",
       "</style>\n",
       "<table border=\"1\" class=\"dataframe\">\n",
       "  <thead>\n",
       "    <tr style=\"text-align: right;\">\n",
       "      <th></th>\n",
       "      <th>Unnamed: 0</th>\n",
       "      <th>User-ID</th>\n",
       "      <th>ISBN</th>\n",
       "      <th>Book-Rating</th>\n",
       "      <th>MeanRating</th>\n",
       "      <th>Promedio_Rating</th>\n",
       "    </tr>\n",
       "  </thead>\n",
       "  <tbody>\n",
       "    <tr>\n",
       "      <th>0</th>\n",
       "      <td>NaN</td>\n",
       "      <td>276725</td>\n",
       "      <td>034545104X</td>\n",
       "      <td>7.601066</td>\n",
       "      <td>2.933333</td>\n",
       "      <td>NaN</td>\n",
       "    </tr>\n",
       "    <tr>\n",
       "      <th>1</th>\n",
       "      <td>1.0</td>\n",
       "      <td>276726</td>\n",
       "      <td>0155061224</td>\n",
       "      <td>5.000000</td>\n",
       "      <td>2.500000</td>\n",
       "      <td>NaN</td>\n",
       "    </tr>\n",
       "    <tr>\n",
       "      <th>2</th>\n",
       "      <td>2.0</td>\n",
       "      <td>276727</td>\n",
       "      <td>0446520802</td>\n",
       "      <td>7.601066</td>\n",
       "      <td>4.060345</td>\n",
       "      <td>NaN</td>\n",
       "    </tr>\n",
       "    <tr>\n",
       "      <th>3</th>\n",
       "      <td>3.0</td>\n",
       "      <td>276729</td>\n",
       "      <td>052165615X</td>\n",
       "      <td>3.000000</td>\n",
       "      <td>3.000000</td>\n",
       "      <td>NaN</td>\n",
       "    </tr>\n",
       "    <tr>\n",
       "      <th>4</th>\n",
       "      <td>4.0</td>\n",
       "      <td>276729</td>\n",
       "      <td>0521795028</td>\n",
       "      <td>6.000000</td>\n",
       "      <td>6.000000</td>\n",
       "      <td>NaN</td>\n",
       "    </tr>\n",
       "    <tr>\n",
       "      <th>...</th>\n",
       "      <td>...</td>\n",
       "      <td>...</td>\n",
       "      <td>...</td>\n",
       "      <td>...</td>\n",
       "      <td>...</td>\n",
       "      <td>...</td>\n",
       "    </tr>\n",
       "    <tr>\n",
       "      <th>1149775</th>\n",
       "      <td>1149775.0</td>\n",
       "      <td>276704</td>\n",
       "      <td>1563526298</td>\n",
       "      <td>9.000000</td>\n",
       "      <td>7.000000</td>\n",
       "      <td>NaN</td>\n",
       "    </tr>\n",
       "    <tr>\n",
       "      <th>1149776</th>\n",
       "      <td>1149776.0</td>\n",
       "      <td>276706</td>\n",
       "      <td>0679447156</td>\n",
       "      <td>7.601066</td>\n",
       "      <td>2.925000</td>\n",
       "      <td>NaN</td>\n",
       "    </tr>\n",
       "    <tr>\n",
       "      <th>1149777</th>\n",
       "      <td>1149777.0</td>\n",
       "      <td>276709</td>\n",
       "      <td>0515107662</td>\n",
       "      <td>10.000000</td>\n",
       "      <td>3.454545</td>\n",
       "      <td>NaN</td>\n",
       "    </tr>\n",
       "    <tr>\n",
       "      <th>1149778</th>\n",
       "      <td>1149778.0</td>\n",
       "      <td>276721</td>\n",
       "      <td>0590442449</td>\n",
       "      <td>10.000000</td>\n",
       "      <td>1.200000</td>\n",
       "      <td>NaN</td>\n",
       "    </tr>\n",
       "    <tr>\n",
       "      <th>1149779</th>\n",
       "      <td>1149779.0</td>\n",
       "      <td>276723</td>\n",
       "      <td>05162443314</td>\n",
       "      <td>8.000000</td>\n",
       "      <td>8.000000</td>\n",
       "      <td>NaN</td>\n",
       "    </tr>\n",
       "  </tbody>\n",
       "</table>\n",
       "<p>1149780 rows × 6 columns</p>\n",
       "</div>"
      ],
      "text/plain": [
       "         Unnamed: 0  User-ID         ISBN  Book-Rating  MeanRating  \\\n",
       "0               NaN   276725   034545104X     7.601066    2.933333   \n",
       "1               1.0   276726   0155061224     5.000000    2.500000   \n",
       "2               2.0   276727   0446520802     7.601066    4.060345   \n",
       "3               3.0   276729   052165615X     3.000000    3.000000   \n",
       "4               4.0   276729   0521795028     6.000000    6.000000   \n",
       "...             ...      ...          ...          ...         ...   \n",
       "1149775   1149775.0   276704   1563526298     9.000000    7.000000   \n",
       "1149776   1149776.0   276706   0679447156     7.601066    2.925000   \n",
       "1149777   1149777.0   276709   0515107662    10.000000    3.454545   \n",
       "1149778   1149778.0   276721   0590442449    10.000000    1.200000   \n",
       "1149779   1149779.0   276723  05162443314     8.000000    8.000000   \n",
       "\n",
       "         Promedio_Rating  \n",
       "0                    NaN  \n",
       "1                    NaN  \n",
       "2                    NaN  \n",
       "3                    NaN  \n",
       "4                    NaN  \n",
       "...                  ...  \n",
       "1149775              NaN  \n",
       "1149776              NaN  \n",
       "1149777              NaN  \n",
       "1149778              NaN  \n",
       "1149779              NaN  \n",
       "\n",
       "[1149780 rows x 6 columns]"
      ]
     },
     "execution_count": 20,
     "metadata": {},
     "output_type": "execute_result"
    }
   ],
   "source": [
    "df1"
   ]
  },
  {
   "cell_type": "markdown",
   "id": "6c2d68f1",
   "metadata": {},
   "source": [
    "Utilizando la columna ISBN de cada base de datos consolidelas en una sola base de datos con todos los atributos de \"books data.csv\""
   ]
  },
  {
   "cell_type": "code",
   "execution_count": 71,
   "id": "e2fadce1",
   "metadata": {},
   "outputs": [
    {
     "name": "stdout",
     "output_type": "stream",
     "text": [
      "0\n",
      "0\n"
     ]
    }
   ],
   "source": [
    "print(df1['ISBN'].isnull().sum()) \n",
    "print(df2['ISBN'].isnull().sum()) \n"
   ]
  },
  {
   "cell_type": "code",
   "execution_count": 72,
   "id": "f72f17dc",
   "metadata": {},
   "outputs": [],
   "source": [
    "df_atributos_unidos = pd.merge(df1,df2, on='ISBN')"
   ]
  },
  {
   "cell_type": "markdown",
   "id": "5d31627d",
   "metadata": {},
   "source": [
    "Exporte la base de datos consolidada"
   ]
  },
  {
   "cell_type": "code",
   "execution_count": 73,
   "id": "cc008620",
   "metadata": {},
   "outputs": [],
   "source": [
    "df_atributos_unidos.to_csv('Book_yRating.csv', index=True)"
   ]
  },
  {
   "cell_type": "code",
   "execution_count": 81,
   "id": "3afc0440",
   "metadata": {},
   "outputs": [
    {
     "data": {
      "text/html": [
       "<div>\n",
       "<style scoped>\n",
       "    .dataframe tbody tr th:only-of-type {\n",
       "        vertical-align: middle;\n",
       "    }\n",
       "\n",
       "    .dataframe tbody tr th {\n",
       "        vertical-align: top;\n",
       "    }\n",
       "\n",
       "    .dataframe thead th {\n",
       "        text-align: right;\n",
       "    }\n",
       "</style>\n",
       "<table border=\"1\" class=\"dataframe\">\n",
       "  <thead>\n",
       "    <tr style=\"text-align: right;\">\n",
       "      <th></th>\n",
       "      <th>Unnamed: 0.1</th>\n",
       "      <th>Unnamed: 0</th>\n",
       "      <th>User-ID</th>\n",
       "      <th>ISBN</th>\n",
       "      <th>Book-Rating</th>\n",
       "      <th>MeanRating</th>\n",
       "      <th>Book-Title</th>\n",
       "      <th>Book-Author</th>\n",
       "      <th>Year-Of-Publication</th>\n",
       "      <th>Publisher</th>\n",
       "      <th>Image-URL-S</th>\n",
       "      <th>Image-URL-M</th>\n",
       "      <th>Image-URL-L</th>\n",
       "    </tr>\n",
       "  </thead>\n",
       "  <tbody>\n",
       "    <tr>\n",
       "      <th>0</th>\n",
       "      <td>0</td>\n",
       "      <td>0</td>\n",
       "      <td>276725</td>\n",
       "      <td>034545104X</td>\n",
       "      <td>0</td>\n",
       "      <td>2.933333</td>\n",
       "      <td>Flesh Tones: A Novel</td>\n",
       "      <td>M. J. Rose</td>\n",
       "      <td>2002</td>\n",
       "      <td>Ballantine Books</td>\n",
       "      <td>http://images.amazon.com/images/P/034545104X.0...</td>\n",
       "      <td>http://images.amazon.com/images/P/034545104X.0...</td>\n",
       "      <td>http://images.amazon.com/images/P/034545104X.0...</td>\n",
       "    </tr>\n",
       "    <tr>\n",
       "      <th>1</th>\n",
       "      <td>1</td>\n",
       "      <td>1</td>\n",
       "      <td>276726</td>\n",
       "      <td>0155061224</td>\n",
       "      <td>5</td>\n",
       "      <td>2.500000</td>\n",
       "      <td>Rites of Passage</td>\n",
       "      <td>Judith Rae</td>\n",
       "      <td>2001</td>\n",
       "      <td>Heinle</td>\n",
       "      <td>http://images.amazon.com/images/P/0155061224.0...</td>\n",
       "      <td>http://images.amazon.com/images/P/0155061224.0...</td>\n",
       "      <td>http://images.amazon.com/images/P/0155061224.0...</td>\n",
       "    </tr>\n",
       "    <tr>\n",
       "      <th>2</th>\n",
       "      <td>2</td>\n",
       "      <td>2</td>\n",
       "      <td>276727</td>\n",
       "      <td>0446520802</td>\n",
       "      <td>0</td>\n",
       "      <td>4.060345</td>\n",
       "      <td>The Notebook</td>\n",
       "      <td>Nicholas Sparks</td>\n",
       "      <td>1996</td>\n",
       "      <td>Warner Books</td>\n",
       "      <td>http://images.amazon.com/images/P/0446520802.0...</td>\n",
       "      <td>http://images.amazon.com/images/P/0446520802.0...</td>\n",
       "      <td>http://images.amazon.com/images/P/0446520802.0...</td>\n",
       "    </tr>\n",
       "    <tr>\n",
       "      <th>3</th>\n",
       "      <td>3</td>\n",
       "      <td>3</td>\n",
       "      <td>276729</td>\n",
       "      <td>052165615X</td>\n",
       "      <td>3</td>\n",
       "      <td>3.000000</td>\n",
       "      <td>Help!: Level 1</td>\n",
       "      <td>Philip Prowse</td>\n",
       "      <td>1999</td>\n",
       "      <td>Cambridge University Press</td>\n",
       "      <td>http://images.amazon.com/images/P/052165615X.0...</td>\n",
       "      <td>http://images.amazon.com/images/P/052165615X.0...</td>\n",
       "      <td>http://images.amazon.com/images/P/052165615X.0...</td>\n",
       "    </tr>\n",
       "    <tr>\n",
       "      <th>4</th>\n",
       "      <td>4</td>\n",
       "      <td>4</td>\n",
       "      <td>276729</td>\n",
       "      <td>0521795028</td>\n",
       "      <td>6</td>\n",
       "      <td>6.000000</td>\n",
       "      <td>The Amsterdam Connection : Level 4 (Cambridge ...</td>\n",
       "      <td>Sue Leather</td>\n",
       "      <td>2001</td>\n",
       "      <td>Cambridge University Press</td>\n",
       "      <td>http://images.amazon.com/images/P/0521795028.0...</td>\n",
       "      <td>http://images.amazon.com/images/P/0521795028.0...</td>\n",
       "      <td>http://images.amazon.com/images/P/0521795028.0...</td>\n",
       "    </tr>\n",
       "  </tbody>\n",
       "</table>\n",
       "</div>"
      ],
      "text/plain": [
       "   Unnamed: 0.1  Unnamed: 0  User-ID        ISBN  Book-Rating  MeanRating  \\\n",
       "0             0           0   276725  034545104X            0    2.933333   \n",
       "1             1           1   276726  0155061224            5    2.500000   \n",
       "2             2           2   276727  0446520802            0    4.060345   \n",
       "3             3           3   276729  052165615X            3    3.000000   \n",
       "4             4           4   276729  0521795028            6    6.000000   \n",
       "\n",
       "                                          Book-Title      Book-Author  \\\n",
       "0                               Flesh Tones: A Novel       M. J. Rose   \n",
       "1                                   Rites of Passage       Judith Rae   \n",
       "2                                       The Notebook  Nicholas Sparks   \n",
       "3                                     Help!: Level 1    Philip Prowse   \n",
       "4  The Amsterdam Connection : Level 4 (Cambridge ...      Sue Leather   \n",
       "\n",
       "   Year-Of-Publication                   Publisher  \\\n",
       "0                 2002            Ballantine Books   \n",
       "1                 2001                      Heinle   \n",
       "2                 1996                Warner Books   \n",
       "3                 1999  Cambridge University Press   \n",
       "4                 2001  Cambridge University Press   \n",
       "\n",
       "                                         Image-URL-S  \\\n",
       "0  http://images.amazon.com/images/P/034545104X.0...   \n",
       "1  http://images.amazon.com/images/P/0155061224.0...   \n",
       "2  http://images.amazon.com/images/P/0446520802.0...   \n",
       "3  http://images.amazon.com/images/P/052165615X.0...   \n",
       "4  http://images.amazon.com/images/P/0521795028.0...   \n",
       "\n",
       "                                         Image-URL-M  \\\n",
       "0  http://images.amazon.com/images/P/034545104X.0...   \n",
       "1  http://images.amazon.com/images/P/0155061224.0...   \n",
       "2  http://images.amazon.com/images/P/0446520802.0...   \n",
       "3  http://images.amazon.com/images/P/052165615X.0...   \n",
       "4  http://images.amazon.com/images/P/0521795028.0...   \n",
       "\n",
       "                                         Image-URL-L  \n",
       "0  http://images.amazon.com/images/P/034545104X.0...  \n",
       "1  http://images.amazon.com/images/P/0155061224.0...  \n",
       "2  http://images.amazon.com/images/P/0446520802.0...  \n",
       "3  http://images.amazon.com/images/P/052165615X.0...  \n",
       "4  http://images.amazon.com/images/P/0521795028.0...  "
      ]
     },
     "execution_count": 81,
     "metadata": {},
     "output_type": "execute_result"
    }
   ],
   "source": [
    "df3= pd.read_csv('Book_yRating.csv')\n",
    "df3.head()"
   ]
  }
 ],
 "metadata": {
  "language_info": {
   "name": "python"
  }
 },
 "nbformat": 4,
 "nbformat_minor": 5
}
